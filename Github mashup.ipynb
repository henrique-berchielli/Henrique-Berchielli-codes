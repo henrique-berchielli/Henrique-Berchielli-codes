{
 "cells": [
  {
   "cell_type": "markdown",
   "metadata": {},
   "source": [
    "AULA - 02\n"
   ]
  },
  {
   "cell_type": "code",
   "execution_count": null,
   "metadata": {},
   "outputs": [],
   "source": [
    "Saldo = 950.60\n",
    "\n",
    "print('quanto deseja sacar?')\n",
    "\n",
    "Saque = float(input('saque: '))\n",
    "print(Saque)\n",
    "\n",
    "Resultado = Saldo - Saque\n",
    "\n",
    "print(f'seu novo saldo é {Resultado:.2f}')"
   ]
  },
  {
   "cell_type": "code",
   "execution_count": null,
   "metadata": {},
   "outputs": [],
   "source": [
    "Frutas = ['Banana', 'Maçâ', 'Caju', 'Melancia', input('fruta')]\n",
    "\n",
    "print(Frutas)"
   ]
  },
  {
   "cell_type": "code",
   "execution_count": null,
   "metadata": {},
   "outputs": [],
   "source": [
    "frase_input = input()\n",
    "vogais = ['a','e', 'i' 'o' 'u']\n",
    "\n",
    "\n",
    "for vogal in vogais:\n",
    "    frase_input = frase_input. replace(vogal, '7')\n",
    "\n",
    "frase_input\n",
    "\n"
   ]
  },
  {
   "cell_type": "markdown",
   "metadata": {},
   "source": [
    "AULA - 04\n"
   ]
  },
  {
   "cell_type": "code",
   "execution_count": null,
   "metadata": {},
   "outputs": [],
   "source": [
    "from plyer import notification\n",
    "from datetime import datetime\n",
    "\n",
    "def alerta(nivel, base, etapa):\n",
    "    nivel_str = \"\"\n",
    "    \n",
    "    if nivel == 1:\n",
    "        nivel_str = \"Alerta Baixo\"\n",
    "    elif nivel == 2:\n",
    "        nivel_str = \"Alerta Médio\"\n",
    "    elif nivel == 3:\n",
    "        nivel_str = \"Alerta Alto\"\n",
    "    \n",
    "    mensagem = f\"Falha no carregamento da base {base} na etapa {etapa}\"\n",
    "    data_atual = datetime.now().strftime(\"%d/%m/%Y %H:%M:%S\")\n",
    "    \n",
    "    notification.notify(\n",
    "        title=nivel_str,\n",
    "        message=f\"{mensagem}\\nData atual: {data_atual}\",\n",
    "        app_name=\"AlertaApp\",\n",
    "        timeout=10  # O tempo em segundos que a notificação ficará visível\n",
    "    )\n",
    "\n",
    "# Exemplo de uso da função\n",
    "alerta(2, \"Base A\", 3)\n"
   ]
  },
  {
   "cell_type": "code",
   "execution_count": null,
   "metadata": {},
   "outputs": [],
   "source": []
  }
 ],
 "metadata": {
  "kernelspec": {
   "display_name": "Python 3",
   "language": "python",
   "name": "python3"
  },
  "language_info": {
   "codemirror_mode": {
    "name": "ipython",
    "version": 3
   },
   "file_extension": ".py",
   "mimetype": "text/x-python",
   "name": "python",
   "nbconvert_exporter": "python",
   "pygments_lexer": "ipython3",
   "version": "3.11.4"
  },
  "orig_nbformat": 4
 },
 "nbformat": 4,
 "nbformat_minor": 2
}
