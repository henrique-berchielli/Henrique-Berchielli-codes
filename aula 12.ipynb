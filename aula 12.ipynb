{
 "cells": [
  {
   "cell_type": "markdown",
   "metadata": {},
   "source": [
    "LIÇÃO AULA 12  API E ETL\n"
   ]
  },
  {
   "cell_type": "code",
   "execution_count": 2,
   "metadata": {},
   "outputs": [],
   "source": [
    "import pandas as pd\n",
    "import requests\n",
    "from plyer import notification"
   ]
  },
  {
   "cell_type": "code",
   "execution_count": 35,
   "metadata": {},
   "outputs": [
    {
     "name": "stdout",
     "output_type": "stream",
     "text": [
      "                              name   code  \\\n",
      "0               BCO DO BRASIL S.A.    1.0   \n",
      "1       BRB - BCO DE BRASILIA S.A.   70.0   \n",
      "2                            Selic    NaN   \n",
      "3                            Bacen    NaN   \n",
      "4            SANTINVEST S.A. - CFI  539.0   \n",
      "5                        CCR SEARA  430.0   \n",
      "6                      AGK CC S.A.  272.0   \n",
      "7   CONF NAC COOP CENTRAIS UNICRED  136.0   \n",
      "8  ÍNDIGO INVESTIMENTOS DTVM LTDA.  407.0   \n",
      "9          CAIXA ECONOMICA FEDERAL  104.0   \n",
      "\n",
      "                                            fullName  \n",
      "0                               Banco do Brasil S.A.  \n",
      "1                       BRB - BANCO DE BRASILIA S.A.  \n",
      "2                    Banco Central do Brasil - Selic  \n",
      "3                            Banco Central do Brasil  \n",
      "4  SANTINVEST S.A. - CREDITO, FINANCIAMENTO E INV...  \n",
      "5    COOPERATIVA DE CREDITO RURAL SEARA - CREDISEARA  \n",
      "6                       AGK CORRETORA DE CAMBIO S.A.  \n",
      "7  CONFEDERAÇÃO NACIONAL DAS COOPERATIVAS CENTRAI...  \n",
      "8  ÍNDIGO INVESTIMENTOS DISTRIBUIDORA DE TÍTULOS ...  \n",
      "9                            CAIXA ECONOMICA FEDERAL  \n"
     ]
    }
   ],
   "source": [
    "import pandas as pd\n",
    "import requests\n",
    "from plyer import notification\n",
    "\n",
    "banks_url = 'https://brasilapi.com.br/api/banks/v1'\n",
    "response = requests.get(banks_url)\n",
    "\n",
    "if response.status_code == 200:\n",
    "    banks_json = response.json()\n",
    "    banksdata = pd.DataFrame(banks_json)\n",
    "  \n",
    "    selected_columns = banksdata[[\"name\", \"code\", \"fullName\"]]\n",
    "    \n",
    "  \n",
    "    print(selected_columns.head(10))\n",
    "else:\n",
    "    notification.notify(\n",
    "        title='BrasilApiBancos',\n",
    "        message='Erro na API dos bancos',\n",
    "        app_name='banksBr',\n",
    "        timeout=10)\n",
    "\n",
    "\n",
    "\n"
   ]
  }
 ],
 "metadata": {
  "kernelspec": {
   "display_name": "Python 3",
   "language": "python",
   "name": "python3"
  },
  "language_info": {
   "codemirror_mode": {
    "name": "ipython",
    "version": 3
   },
   "file_extension": ".py",
   "mimetype": "text/x-python",
   "name": "python",
   "nbconvert_exporter": "python",
   "pygments_lexer": "ipython3",
   "version": "3.11.4"
  },
  "orig_nbformat": 4
 },
 "nbformat": 4,
 "nbformat_minor": 2
}
