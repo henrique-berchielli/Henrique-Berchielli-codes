{
 "cells": [
  {
   "cell_type": "markdown",
   "metadata": {},
   "source": [
    "LIÇÃO AULA 12  API E ETL\n"
   ]
  },
  {
   "cell_type": "code",
   "execution_count": 10,
   "metadata": {},
   "outputs": [],
   "source": [
    "import pandas as pd\n",
    "import requests\n",
    "from plyer import notification"
   ]
  },
  {
   "cell_type": "code",
   "execution_count": 22,
   "metadata": {},
   "outputs": [],
   "source": [
    "banks_url = 'https://brasilapi.com.br/api/banks/v1'\n",
    "response = requests.get(banks_url)\n",
    "\n",
    "if response.status_code == 0:\n",
    "\n",
    "    banks_json = response.json()\n",
    "    banksdata = pd.DataFrame(banks_json)\n",
    "    banksdata.head(3)\n",
    "else:\n",
    "   \n",
    "    notification.notify(\n",
    "    title = 'BrasilApiBancos',\n",
    "    message = 'Erro na API dos bancos',\n",
    "    app_name = 'banksBr',\n",
    "    timeout =10)\n",
    "\n",
    "\n",
    "\n"
   ]
  }
 ],
 "metadata": {
  "kernelspec": {
   "display_name": "Python 3",
   "language": "python",
   "name": "python3"
  },
  "language_info": {
   "codemirror_mode": {
    "name": "ipython",
    "version": 3
   },
   "file_extension": ".py",
   "mimetype": "text/x-python",
   "name": "python",
   "nbconvert_exporter": "python",
   "pygments_lexer": "ipython3",
   "version": "3.11.4"
  },
  "orig_nbformat": 4
 },
 "nbformat": 4,
 "nbformat_minor": 2
}
