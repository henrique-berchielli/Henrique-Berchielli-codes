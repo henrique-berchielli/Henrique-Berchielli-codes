{
 "cells": [
  {
   "cell_type": "code",
   "execution_count": 1,
   "metadata": {},
   "outputs": [],
   "source": [
    "\n",
    "import numpy as np\n",
    "import pandas as pd"
   ]
  },
  {
   "cell_type": "code",
   "execution_count": null,
   "metadata": {},
   "outputs": [],
   "source": [
    "#Pandas é uma biblioteca que possui \n",
    "#códigos abertos e é usada para a análise e \n",
    "#manipulação de dados.\n",
    "#E é uma biblioteca construída sobre Numpy."
   ]
  },
  {
   "cell_type": "code",
   "execution_count": 6,
   "metadata": {},
   "outputs": [
    {
     "name": "stdout",
     "output_type": "stream",
     "text": [
      "Array com valores aleatórios e tipo de dado:\n",
      "[46  4 47 33 47 78  9 20 76 29]\n",
      "Tipo de dado: int32\n",
      "Matriz de 5x5:\n",
      "[[0.09413313 0.11886274 0.03869567 0.86379073 0.32560344]\n",
      " [0.28764499 0.70595353 0.40824939 0.31966362 0.68292511]\n",
      " [0.86779139 0.27622571 0.65462269 0.16215039 0.07795997]\n",
      " [0.16011272 0.83583576 0.83470227 0.01937001 0.4357589 ]\n",
      " [0.85323948 0.30567694 0.22387966 0.52787091 0.7024325 ]]\n",
      "Valor mínimo: 0.019370013638386974\n",
      "Valor máximo: 0.8677913907615\n",
      "Média: 0.43132606650103844\n",
      "Array com valores aleatórios no intervalo [0, 1]:\n",
      "[0.47539145 0.68625051 0.24609191 0.50519363 0.60442937 0.69633428\n",
      " 0.24721194 0.62292217 0.03146803 0.99766272]\n",
      "Novo array com elementos multiplicados por 10 e convertidos para inteiro:\n",
      "[4 6 2 5 6 6 2 6 0 9]\n",
      "Array de duas dimensões (3x3) com valores aleatórios inteiros:\n",
      "[[3 3 9]\n",
      " [8 9 9]\n",
      " [9 9 2]]\n",
      "Array após substituir a segunda linha por -1:\n",
      "[[ 3  3  9]\n",
      " [ 8  9  9]\n",
      " [-1 -1 -1]]\n",
      "DataFrame criado:\n",
      "    fruta  preco  quantidade\n",
      "0  Banana    7.9          12\n",
      "1    Maçã   10.2           3\n",
      "2    Pera   11.8           4\n"
     ]
    }
   ],
   "source": [
    "# 1. Crie um array NumPy com 10 elementos inteiros aleatórios no intervalo [0, 100]\n",
    "array1 = np.random.randint(0, 100, 10)\n",
    "print(\"Array com valores aleatórios e tipo de dado:\")\n",
    "print(array1)\n",
    "print(\"Tipo de dado:\", array1.dtype)\n",
    "\n",
    "# 2. Crie uma matriz de 5x5 com valores aleatórios de [0,1)\n",
    "matriz = np.random.rand(5, 5)\n",
    "print(\"Matriz de 5x5:\")\n",
    "print(matriz)\n",
    "print(\"Valor mínimo:\", matriz.min())\n",
    "print(\"Valor máximo:\", matriz.max())\n",
    "print(\"Média:\", matriz.mean())\n",
    "\n",
    "# 3. Crie um array com 10 elementos aleatórios no intervalo [0, 1]\n",
    "array2 = np.random.rand(10)\n",
    "print(\"Array com valores aleatórios no intervalo [0, 1]:\")\n",
    "print(array2)\n",
    "\n",
    "# Crie um novo array com os elementos do primeiro array multiplicados por 10 e convertidos para inteiro\n",
    "array3 = (array2 * 10).astype(int)\n",
    "print(\"Novo array com elementos multiplicados por 10 e convertidos para inteiro:\")\n",
    "print(array3)\n",
    "\n",
    "# 4. Crie um array de duas dimensões com shape (3, 3) e valores aleatórios inteiros no intervalo [0, 9]\n",
    "array4 = np.random.randint(0, 10, (3, 3))\n",
    "print(\"Array de duas dimensões (3x3) com valores aleatórios inteiros:\")\n",
    "print(array4)\n",
    "\n",
    "# Substitua todos os elementos da segunda linha por -1\n",
    "array4[-1, :] = -1\n",
    "print(\"Array após substituir a segunda linha por -1:\")\n",
    "print(array4)\n",
    "\n",
    "# 5. Crie um DataFrame com as informações fornecidas\n",
    "data = {\n",
    "    'fruta': [\"Banana\", \"Maçã\", \"Pera\"],\n",
    "    'preco': [7.90, 10.20, 11.80],\n",
    "    'quantidade': [12, 3, 4]\n",
    "}\n",
    "\n",
    "df = pd.DataFrame(data)\n",
    "print(\"DataFrame criado:\")\n",
    "print(df)\n"
   ]
  },
  {
   "cell_type": "code",
   "execution_count": null,
   "metadata": {},
   "outputs": [],
   "source": []
  }
 ],
 "metadata": {
  "kernelspec": {
   "display_name": "Python 3",
   "language": "python",
   "name": "python3"
  },
  "language_info": {
   "codemirror_mode": {
    "name": "ipython",
    "version": 3
   },
   "file_extension": ".py",
   "mimetype": "text/x-python",
   "name": "python",
   "nbconvert_exporter": "python",
   "pygments_lexer": "ipython3",
   "version": "3.11.4"
  },
  "orig_nbformat": 4
 },
 "nbformat": 4,
 "nbformat_minor": 2
}
