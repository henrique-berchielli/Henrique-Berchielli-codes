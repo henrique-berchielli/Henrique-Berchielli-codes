{
 "cells": [
  {
   "cell_type": "code",
   "execution_count": 14,
   "metadata": {},
   "outputs": [
    {
     "name": "stdout",
     "output_type": "stream",
     "text": [
      "quanto deseja sacar?\n",
      "10.0\n",
      "seu novo saldo é 940.60\n"
     ]
    }
   ],
   "source": [
    "Saldo = 950.60\n",
    "\n",
    "print('quanto deseja sacar?')\n",
    "\n",
    "Saque = float(input('saque: '))\n",
    "print(Saque)\n",
    "\n",
    "Resultado = Saldo - Saque\n",
    "\n",
    "print(f'seu novo saldo é {Resultado:.2f}')"
   ]
  },
  {
   "cell_type": "code",
   "execution_count": 1,
   "metadata": {},
   "outputs": [
    {
     "name": "stdout",
     "output_type": "stream",
     "text": [
      "['Banana', 'Maçâ', 'Caju', 'Melancia', '10']\n"
     ]
    }
   ],
   "source": [
    "Frutas = ['Banana', 'Maçâ', 'Caju', 'Melancia', input('fruta')]\n",
    "\n",
    "print(Frutas)"
   ]
  },
  {
   "cell_type": "code",
   "execution_count": null,
   "metadata": {},
   "outputs": [],
   "source": [
    "frase_input = input()\n",
    "vogais = ['a','e', 'i' 'o' 'u']\n",
    "\n",
    "\n",
    "for vogal in vogais:\n",
    "    frase_input = frase_input. replace(vogal, '7')\n",
    "\n",
    "frase_input\n",
    "\n"
   ]
  },
  {
   "cell_type": "code",
   "execution_count": 8,
   "metadata": {},
   "outputs": [],
   "source": [
    "import pandas"
   ]
  }
 ],
 "metadata": {
  "kernelspec": {
   "display_name": "Python 3",
   "language": "python",
   "name": "python3"
  },
  "language_info": {
   "codemirror_mode": {
    "name": "ipython",
    "version": 3
   },
   "file_extension": ".py",
   "mimetype": "text/x-python",
   "name": "python",
   "nbconvert_exporter": "python",
   "pygments_lexer": "ipython3",
   "version": "3.11.4"
  },
  "orig_nbformat": 4
 },
 "nbformat": 4,
 "nbformat_minor": 2
}
