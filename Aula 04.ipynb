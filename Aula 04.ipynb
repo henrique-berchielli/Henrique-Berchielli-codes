{
 "cells": [
  {
   "cell_type": "code",
   "execution_count": 10,
   "metadata": {},
   "outputs": [
    {
     "name": "stdout",
     "output_type": "stream",
     "text": [
      "Collecting plyer\n",
      "  Downloading plyer-2.1.0-py2.py3-none-any.whl (142 kB)\n",
      "                                              0.0/142.3 kB ? eta -:--:--\n",
      "     -------------------------------------- 142.3/142.3 kB 4.3 MB/s eta 0:00:00\n",
      "Installing collected packages: plyer\n",
      "Successfully installed plyer-2.1.0\n"
     ]
    },
    {
     "name": "stderr",
     "output_type": "stream",
     "text": [
      "\n",
      "[notice] A new release of pip is available: 23.1.2 -> 23.2.1\n",
      "[notice] To update, run: python.exe -m pip install --upgrade pip\n"
     ]
    }
   ],
   "source": [
    "!pip install plyer\n"
   ]
  },
  {
   "cell_type": "code",
   "execution_count": 11,
   "metadata": {},
   "outputs": [],
   "source": [
    "\n",
    "from plyer import notification\n",
    "from datetime import datetime\n",
    "\n",
    "def alerta(nivel, base, etapa):\n",
    "    nivel_str = \"\"\n",
    "    \n",
    "    if nivel == 1:\n",
    "        nivel_str = \"Alerta Baixo\"\n",
    "    elif nivel == 2:\n",
    "        nivel_str = \"Alerta Médio\"\n",
    "    elif nivel == 3:\n",
    "        nivel_str = \"Alerta Alto\"\n",
    "    \n",
    "    mensagem = f\"Falha no carregamento da base {base} na etapa {etapa}\"\n",
    "    data_atual = datetime.now().strftime(\"%d/%m/%Y %H:%M:%S\")\n",
    "    \n",
    "    notification.notify(\n",
    "        title=nivel_str,\n",
    "        message=f\"{mensagem}\\nData atual: {data_atual}\",\n",
    "        app_name=\"AlertaApp\",\n",
    "        timeout=10  # O tempo em segundos que a notificação ficará visível\n",
    "    )\n",
    "\n",
    "# Exemplo de uso da função\n",
    "alerta(2, \"Base A\", 3)\n"
   ]
  }
 ],
 "metadata": {
  "kernelspec": {
   "display_name": "Python 3",
   "language": "python",
   "name": "python3"
  },
  "language_info": {
   "codemirror_mode": {
    "name": "ipython",
    "version": 3
   },
   "file_extension": ".py",
   "mimetype": "text/x-python",
   "name": "python",
   "nbconvert_exporter": "python",
   "pygments_lexer": "ipython3",
   "version": "3.11.4"
  },
  "orig_nbformat": 4
 },
 "nbformat": 4,
 "nbformat_minor": 2
}
